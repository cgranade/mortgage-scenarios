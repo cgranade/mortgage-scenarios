{
 "cells": [
  {
   "cell_type": "code",
   "execution_count": 1,
   "metadata": {
    "collapsed": false
   },
   "outputs": [
    {
     "ename": "ImportError",
     "evalue": "cannot import name GridBox",
     "output_type": "error",
     "traceback": [
      "\u001b[0;31m---------------------------------------------------------------------------\u001b[0m",
      "\u001b[0;31mImportError\u001b[0m                               Traceback (most recent call last)",
      "\u001b[0;32m<ipython-input-1-db93b56dc660>\u001b[0m in \u001b[0;36m<module>\u001b[0;34m()\u001b[0m\n\u001b[0;32m----> 1\u001b[0;31m \u001b[1;32mfrom\u001b[0m \u001b[0mipywidgets\u001b[0m \u001b[1;32mimport\u001b[0m \u001b[0minteract\u001b[0m\u001b[1;33m,\u001b[0m \u001b[0mIntSlider\u001b[0m\u001b[1;33m,\u001b[0m \u001b[0mFloatSlider\u001b[0m\u001b[1;33m,\u001b[0m \u001b[0mGridBox\u001b[0m\u001b[1;33m,\u001b[0m \u001b[0mLayout\u001b[0m\u001b[1;33m,\u001b[0m \u001b[0mLabel\u001b[0m\u001b[1;33m,\u001b[0m \u001b[0mHTML\u001b[0m\u001b[1;33m\u001b[0m\u001b[0m\n\u001b[0m\u001b[1;32m      2\u001b[0m \u001b[1;32mfrom\u001b[0m \u001b[0mmortgage\u001b[0m \u001b[1;32mimport\u001b[0m \u001b[0mMortgage\u001b[0m\u001b[1;33m,\u001b[0m \u001b[0mureg\u001b[0m\u001b[1;33m,\u001b[0m \u001b[0mQ\u001b[0m\u001b[1;33m\u001b[0m\u001b[0m\n",
      "\u001b[0;31mImportError\u001b[0m: cannot import name GridBox"
     ]
    }
   ],
   "source": [
    "from ipywidgets import interact, IntSlider, FloatSlider, GridBox, Layout, Label, HTML\n",
    "from mortgage import Mortgage, ureg, Q\n",
    "from typing import List, Tuple"
   ]
  },
  {
   "cell_type": "markdown",
   "metadata": {},
   "source": [
    "# TODO:\n",
    "- write the actual vesting and espp schedules\n",
    "- opportunity cost calc\n"
   ]
  },
  {
   "cell_type": "code",
   "execution_count": 15,
   "metadata": {
    "collapsed": true
   },
   "outputs": [],
   "source": [
    "def constant_overpayment_strategy(amount: Q):\n",
    "    def overpayment(remaining: Mortgage) -> Q:\n",
    "        return amount\n",
    "    return overpayment\n",
    "\n",
    "def liquidation_strategy(schedule: List[Q]):\n",
    "    def liquidate(remaining: Mortgage) -> Q:\n",
    "        return schedule.pop()\n",
    "    return liquidate"
   ]
  },
  {
   "cell_type": "code",
   "execution_count": 19,
   "metadata": {
    "collapsed": false
   },
   "outputs": [
    {
     "data": {
      "application/vnd.jupyter.widget-view+json": {
       "model_id": "49bbaad3f380414abd56c193bef42d88",
       "version_major": 2,
       "version_minor": 0
      },
      "text/plain": [
       "interactive(children=(FloatSlider(value=300000.0, description='Home value ($)', max=10000000.0, min=300000.0),…"
      ]
     },
     "metadata": {},
     "output_type": "display_data"
    }
   ],
   "source": [
    "@interact\n",
    "def summarize_scenarios(\n",
    "        home_value : FloatSlider(min=3e5, max=1e7, description=\"Home value ($)\"),\n",
    "        down_payment_percentage : FloatSlider(min=0, max=45, description=\"Down payment (%)\"),\n",
    "        n_years : IntSlider(min=10, max=30, description=\"# of years\"),\n",
    "        n_discount_points : FloatSlider(min=-1, max=1, description=\"# discount points\"),\n",
    "        overpayment_amount : FloatSlider(min=0, max=2e4, description=\"Overpayment ($ / mo)\")\n",
    "    ):\n",
    "    mortgage = Mortgage(\n",
    "        home_value=Q(home_value, 'dollars'),\n",
    "        loan_amount=Q(home_value, 'dollars') * (1 - Q(down_payment_percentage, 'percent')),\n",
    "        duration=Q(n_years, 'years')\n",
    "    )\n",
    "    overpayment_strategy = constant_overpayment_strategy(Q(overpayment_amount, 'dollars / month'))\n",
    "    total_cost, actual_duration = mortgage.total_cost(Q(n_discount_points, 'dp'), overpayment_strategy=overpayment_strategy)\n",
    "    \n",
    "    return GridBox(\n",
    "        children=[\n",
    "            Label(\"# of payments:\"),\n",
    "            Label(f\"{mortgage.n_payments}\"),\n",
    "\n",
    "            Label(f\"Effective rate:\"),\n",
    "            Label(f\"{mortgage.effective_rate(Q(n_discount_points, 'dp'))}\"),\n",
    "\n",
    "            Label(f\"Down payment:\"),\n",
    "            Label(f\"{mortgage.down_payment}\"),\n",
    "\n",
    "            Label(f\"Closing costs:\"),\n",
    "            Label(f\"{mortgage.actual_closing_costs(Q(n_discount_points, 'dp'))}\"),\n",
    "\n",
    "            Label(f\"Base payment:\"),\n",
    "            Label(f\"{mortgage.base_payment(Q(n_discount_points, 'dp'))}\"),\n",
    "\n",
    "            HTML(f\"<strong>Total cost:</strong>\"),\n",
    "            HTML(f\"<strong>{total_cost}</strong>\"),\n",
    "\n",
    "            HTML(f\"<strong>Actual duration:</strong>\"),\n",
    "            HTML(f\"<strong>{actual_duration.to('months')}</strong>\")\n",
    "        ],\n",
    "        \n",
    "        layout=Layout(\n",
    "            width='70%',\n",
    "            grid_template_columns='auto auto'\n",
    "        )\n",
    "    )"
   ]
  },
  {
   "cell_type": "code",
   "execution_count": null,
   "metadata": {
    "collapsed": true
   },
   "outputs": [],
   "source": []
  }
 ],
 "metadata": {
  "anaconda-cloud": {},
  "kernelspec": {
   "display_name": "Python [conda env:Anaconda2]",
   "language": "python",
   "name": "conda-env-Anaconda2-py"
  },
  "language_info": {
   "codemirror_mode": {
    "name": "ipython",
    "version": 2
   },
   "file_extension": ".py",
   "mimetype": "text/x-python",
   "name": "python",
   "nbconvert_exporter": "python",
   "pygments_lexer": "ipython2",
   "version": "2.7.12"
  }
 },
 "nbformat": 4,
 "nbformat_minor": 1
}
