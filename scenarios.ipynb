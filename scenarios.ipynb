{
 "cells": [
  {
   "cell_type": "code",
   "execution_count": 14,
   "metadata": {},
   "outputs": [],
   "source": [
    "from ipywidgets import interact, IntSlider, FloatSlider, GridBox, Layout, Label, HTML\n",
    "from mortgage import Mortgage, ureg, Q"
   ]
  },
  {
   "cell_type": "code",
   "execution_count": 15,
   "metadata": {},
   "outputs": [],
   "source": [
    "def constant_overpayment_strategy(amount: Q):\n",
    "    def overpayment(remaining: Mortgage) -> Q:\n",
    "        return amount\n",
    "    return overpayment"
   ]
  },
  {
   "cell_type": "code",
   "execution_count": 19,
   "metadata": {},
   "outputs": [
    {
     "data": {
      "application/vnd.jupyter.widget-view+json": {
       "model_id": "49bbaad3f380414abd56c193bef42d88",
       "version_major": 2,
       "version_minor": 0
      },
      "text/plain": [
       "interactive(children=(FloatSlider(value=300000.0, description='Home value ($)', max=10000000.0, min=300000.0),…"
      ]
     },
     "metadata": {},
     "output_type": "display_data"
    }
   ],
   "source": [
    "@interact\n",
    "def summarize_scenarios(\n",
    "        home_value : FloatSlider(min=3e5, max=1e7, description=\"Home value ($)\"),\n",
    "        down_payment_percentage : FloatSlider(min=0, max=45, description=\"Down payment (%)\"),\n",
    "        n_years : IntSlider(min=10, max=30, description=\"# of years\"),\n",
    "        n_discount_points : FloatSlider(min=-1, max=1, description=\"# discount points\"),\n",
    "        overpayment_amount : FloatSlider(min=0, max=2e4, description=\"Overpayment ($ / mo)\")\n",
    "    ):\n",
    "    mortgage = Mortgage(\n",
    "        home_value=Q(home_value, 'dollars'),\n",
    "        loan_amount=Q(home_value, 'dollars') * (1 - Q(down_payment_percentage, 'percent')),\n",
    "        duration=Q(n_years, 'years')\n",
    "    )\n",
    "    overpayment_strategy = constant_overpayment_strategy(Q(overpayment_amount, 'dollars / month'))\n",
    "    total_cost, actual_duration = mortgage.total_cost(Q(n_discount_points, 'dp'), overpayment_strategy=overpayment_strategy)\n",
    "    \n",
    "    return GridBox(\n",
    "        children=[\n",
    "            Label(\"# of payments:\"),\n",
    "            Label(f\"{mortgage.n_payments}\"),\n",
    "\n",
    "            Label(f\"Effective rate:\"),\n",
    "            Label(f\"{mortgage.effective_rate(Q(n_discount_points, 'dp'))}\"),\n",
    "\n",
    "            Label(f\"Down payment:\"),\n",
    "            Label(f\"{mortgage.down_payment}\"),\n",
    "\n",
    "            Label(f\"Closing costs:\"),\n",
    "            Label(f\"{mortgage.actual_closing_costs(Q(n_discount_points, 'dp'))}\"),\n",
    "\n",
    "            Label(f\"Base payment:\"),\n",
    "            Label(f\"{mortgage.base_payment(Q(n_discount_points, 'dp'))}\"),\n",
    "\n",
    "            HTML(f\"<strong>Total cost:</strong>\"),\n",
    "            HTML(f\"<strong>{total_cost}</strong>\"),\n",
    "\n",
    "            HTML(f\"<strong>Actual duration:</strong>\"),\n",
    "            HTML(f\"<strong>{actual_duration.to('months')}</strong>\")\n",
    "        ],\n",
    "        \n",
    "        layout=Layout(\n",
    "            width='70%',\n",
    "            grid_template_columns='auto auto'\n",
    "        )\n",
    "    )"
   ]
  },
  {
   "cell_type": "code",
   "execution_count": null,
   "metadata": {},
   "outputs": [],
   "source": []
  }
 ],
 "metadata": {
  "kernelspec": {
   "display_name": "Python [conda env:mortgage]",
   "language": "python",
   "name": "conda-env-mortgage-py"
  },
  "language_info": {
   "codemirror_mode": {
    "name": "ipython",
    "version": 3
   },
   "file_extension": ".py",
   "mimetype": "text/x-python",
   "name": "python",
   "nbconvert_exporter": "python",
   "pygments_lexer": "ipython3",
   "version": "3.7.0"
  }
 },
 "nbformat": 4,
 "nbformat_minor": 1
}
